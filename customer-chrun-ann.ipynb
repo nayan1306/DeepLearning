{
 "cells": [
  {
   "cell_type": "code",
   "execution_count": 1,
   "id": "9787b2c1",
   "metadata": {
    "_cell_guid": "b1076dfc-b9ad-4769-8c92-a6c4dae69d19",
    "_uuid": "8f2839f25d086af736a60e9eeb907d3b93b6e0e5",
    "execution": {
     "iopub.execute_input": "2023-07-07T06:34:09.350076Z",
     "iopub.status.busy": "2023-07-07T06:34:09.349689Z",
     "iopub.status.idle": "2023-07-07T06:34:09.369661Z",
     "shell.execute_reply": "2023-07-07T06:34:09.368808Z"
    },
    "papermill": {
     "duration": 0.039456,
     "end_time": "2023-07-07T06:34:09.372191",
     "exception": false,
     "start_time": "2023-07-07T06:34:09.332735",
     "status": "completed"
    },
    "tags": []
   },
   "outputs": [
    {
     "name": "stdout",
     "output_type": "stream",
     "text": [
      "/kaggle/input/credit-card-customer-churn-prediction/Churn_Modelling.csv\n"
     ]
    }
   ],
   "source": [
    "# This Python 3 environment comes with many helpful analytics libraries installed\n",
    "# It is defined by the kaggle/python Docker image: https://github.com/kaggle/docker-python\n",
    "# For example, here's several helpful packages to load\n",
    "\n",
    "import numpy as np # linear algebra\n",
    "import pandas as pd # data processing, CSV file I/O (e.g. pd.read_csv)\n",
    "\n",
    "# Input data files are available in the read-only \"../input/\" directory\n",
    "# For example, running this (by clicking run or pressing Shift+Enter) will list all files under the input directory\n",
    "\n",
    "import os\n",
    "for dirname, _, filenames in os.walk('/kaggle/input'):\n",
    "    for filename in filenames:\n",
    "        print(os.path.join(dirname, filename))\n",
    "\n",
    "# You can write up to 20GB to the current directory (/kaggle/working/) that gets preserved as output when you create a version using \"Save & Run All\" \n",
    "# You can also write temporary files to /kaggle/temp/, but they won't be saved outside of the current session"
   ]
  },
  {
   "cell_type": "code",
   "execution_count": 2,
   "id": "15e4ae3b",
   "metadata": {
    "execution": {
     "iopub.execute_input": "2023-07-07T06:34:09.395939Z",
     "iopub.status.busy": "2023-07-07T06:34:09.395213Z",
     "iopub.status.idle": "2023-07-07T06:34:09.453659Z",
     "shell.execute_reply": "2023-07-07T06:34:09.452250Z"
    },
    "papermill": {
     "duration": 0.073174,
     "end_time": "2023-07-07T06:34:09.456383",
     "exception": false,
     "start_time": "2023-07-07T06:34:09.383209",
     "status": "completed"
    },
    "tags": []
   },
   "outputs": [],
   "source": [
    "df = pd.read_csv('/kaggle/input/credit-card-customer-churn-prediction/Churn_Modelling.csv')"
   ]
  },
  {
   "cell_type": "code",
   "execution_count": 3,
   "id": "870eec5a",
   "metadata": {
    "execution": {
     "iopub.execute_input": "2023-07-07T06:34:09.479586Z",
     "iopub.status.busy": "2023-07-07T06:34:09.479154Z",
     "iopub.status.idle": "2023-07-07T06:34:09.514890Z",
     "shell.execute_reply": "2023-07-07T06:34:09.513618Z"
    },
    "papermill": {
     "duration": 0.049871,
     "end_time": "2023-07-07T06:34:09.517024",
     "exception": false,
     "start_time": "2023-07-07T06:34:09.467153",
     "status": "completed"
    },
    "tags": []
   },
   "outputs": [
    {
     "data": {
      "text/html": [
       "<div>\n",
       "<style scoped>\n",
       "    .dataframe tbody tr th:only-of-type {\n",
       "        vertical-align: middle;\n",
       "    }\n",
       "\n",
       "    .dataframe tbody tr th {\n",
       "        vertical-align: top;\n",
       "    }\n",
       "\n",
       "    .dataframe thead th {\n",
       "        text-align: right;\n",
       "    }\n",
       "</style>\n",
       "<table border=\"1\" class=\"dataframe\">\n",
       "  <thead>\n",
       "    <tr style=\"text-align: right;\">\n",
       "      <th></th>\n",
       "      <th>RowNumber</th>\n",
       "      <th>CustomerId</th>\n",
       "      <th>Surname</th>\n",
       "      <th>CreditScore</th>\n",
       "      <th>Geography</th>\n",
       "      <th>Gender</th>\n",
       "      <th>Age</th>\n",
       "      <th>Tenure</th>\n",
       "      <th>Balance</th>\n",
       "      <th>NumOfProducts</th>\n",
       "      <th>HasCrCard</th>\n",
       "      <th>IsActiveMember</th>\n",
       "      <th>EstimatedSalary</th>\n",
       "      <th>Exited</th>\n",
       "    </tr>\n",
       "  </thead>\n",
       "  <tbody>\n",
       "    <tr>\n",
       "      <th>0</th>\n",
       "      <td>1</td>\n",
       "      <td>15634602</td>\n",
       "      <td>Hargrave</td>\n",
       "      <td>619</td>\n",
       "      <td>France</td>\n",
       "      <td>Female</td>\n",
       "      <td>42</td>\n",
       "      <td>2</td>\n",
       "      <td>0.00</td>\n",
       "      <td>1</td>\n",
       "      <td>1</td>\n",
       "      <td>1</td>\n",
       "      <td>101348.88</td>\n",
       "      <td>1</td>\n",
       "    </tr>\n",
       "    <tr>\n",
       "      <th>1</th>\n",
       "      <td>2</td>\n",
       "      <td>15647311</td>\n",
       "      <td>Hill</td>\n",
       "      <td>608</td>\n",
       "      <td>Spain</td>\n",
       "      <td>Female</td>\n",
       "      <td>41</td>\n",
       "      <td>1</td>\n",
       "      <td>83807.86</td>\n",
       "      <td>1</td>\n",
       "      <td>0</td>\n",
       "      <td>1</td>\n",
       "      <td>112542.58</td>\n",
       "      <td>0</td>\n",
       "    </tr>\n",
       "    <tr>\n",
       "      <th>2</th>\n",
       "      <td>3</td>\n",
       "      <td>15619304</td>\n",
       "      <td>Onio</td>\n",
       "      <td>502</td>\n",
       "      <td>France</td>\n",
       "      <td>Female</td>\n",
       "      <td>42</td>\n",
       "      <td>8</td>\n",
       "      <td>159660.80</td>\n",
       "      <td>3</td>\n",
       "      <td>1</td>\n",
       "      <td>0</td>\n",
       "      <td>113931.57</td>\n",
       "      <td>1</td>\n",
       "    </tr>\n",
       "    <tr>\n",
       "      <th>3</th>\n",
       "      <td>4</td>\n",
       "      <td>15701354</td>\n",
       "      <td>Boni</td>\n",
       "      <td>699</td>\n",
       "      <td>France</td>\n",
       "      <td>Female</td>\n",
       "      <td>39</td>\n",
       "      <td>1</td>\n",
       "      <td>0.00</td>\n",
       "      <td>2</td>\n",
       "      <td>0</td>\n",
       "      <td>0</td>\n",
       "      <td>93826.63</td>\n",
       "      <td>0</td>\n",
       "    </tr>\n",
       "    <tr>\n",
       "      <th>4</th>\n",
       "      <td>5</td>\n",
       "      <td>15737888</td>\n",
       "      <td>Mitchell</td>\n",
       "      <td>850</td>\n",
       "      <td>Spain</td>\n",
       "      <td>Female</td>\n",
       "      <td>43</td>\n",
       "      <td>2</td>\n",
       "      <td>125510.82</td>\n",
       "      <td>1</td>\n",
       "      <td>1</td>\n",
       "      <td>1</td>\n",
       "      <td>79084.10</td>\n",
       "      <td>0</td>\n",
       "    </tr>\n",
       "  </tbody>\n",
       "</table>\n",
       "</div>"
      ],
      "text/plain": [
       "   RowNumber  CustomerId   Surname  CreditScore Geography  Gender  Age  \\\n",
       "0          1    15634602  Hargrave          619    France  Female   42   \n",
       "1          2    15647311      Hill          608     Spain  Female   41   \n",
       "2          3    15619304      Onio          502    France  Female   42   \n",
       "3          4    15701354      Boni          699    France  Female   39   \n",
       "4          5    15737888  Mitchell          850     Spain  Female   43   \n",
       "\n",
       "   Tenure    Balance  NumOfProducts  HasCrCard  IsActiveMember  \\\n",
       "0       2       0.00              1          1               1   \n",
       "1       1   83807.86              1          0               1   \n",
       "2       8  159660.80              3          1               0   \n",
       "3       1       0.00              2          0               0   \n",
       "4       2  125510.82              1          1               1   \n",
       "\n",
       "   EstimatedSalary  Exited  \n",
       "0        101348.88       1  \n",
       "1        112542.58       0  \n",
       "2        113931.57       1  \n",
       "3         93826.63       0  \n",
       "4         79084.10       0  "
      ]
     },
     "execution_count": 3,
     "metadata": {},
     "output_type": "execute_result"
    }
   ],
   "source": [
    "df.head()"
   ]
  },
  {
   "cell_type": "code",
   "execution_count": 4,
   "id": "3de40ec3",
   "metadata": {
    "execution": {
     "iopub.execute_input": "2023-07-07T06:34:09.540539Z",
     "iopub.status.busy": "2023-07-07T06:34:09.540152Z",
     "iopub.status.idle": "2023-07-07T06:34:09.546743Z",
     "shell.execute_reply": "2023-07-07T06:34:09.545775Z"
    },
    "papermill": {
     "duration": 0.020979,
     "end_time": "2023-07-07T06:34:09.548947",
     "exception": false,
     "start_time": "2023-07-07T06:34:09.527968",
     "status": "completed"
    },
    "tags": []
   },
   "outputs": [
    {
     "data": {
      "text/plain": [
       "(10000, 14)"
      ]
     },
     "execution_count": 4,
     "metadata": {},
     "output_type": "execute_result"
    }
   ],
   "source": [
    "df.shape"
   ]
  },
  {
   "cell_type": "code",
   "execution_count": 5,
   "id": "85ae13f5",
   "metadata": {
    "execution": {
     "iopub.execute_input": "2023-07-07T06:34:09.572951Z",
     "iopub.status.busy": "2023-07-07T06:34:09.572535Z",
     "iopub.status.idle": "2023-07-07T06:34:09.607915Z",
     "shell.execute_reply": "2023-07-07T06:34:09.606774Z"
    },
    "papermill": {
     "duration": 0.050155,
     "end_time": "2023-07-07T06:34:09.610351",
     "exception": false,
     "start_time": "2023-07-07T06:34:09.560196",
     "status": "completed"
    },
    "tags": []
   },
   "outputs": [
    {
     "name": "stdout",
     "output_type": "stream",
     "text": [
      "<class 'pandas.core.frame.DataFrame'>\n",
      "RangeIndex: 10000 entries, 0 to 9999\n",
      "Data columns (total 14 columns):\n",
      " #   Column           Non-Null Count  Dtype  \n",
      "---  ------           --------------  -----  \n",
      " 0   RowNumber        10000 non-null  int64  \n",
      " 1   CustomerId       10000 non-null  int64  \n",
      " 2   Surname          10000 non-null  object \n",
      " 3   CreditScore      10000 non-null  int64  \n",
      " 4   Geography        10000 non-null  object \n",
      " 5   Gender           10000 non-null  object \n",
      " 6   Age              10000 non-null  int64  \n",
      " 7   Tenure           10000 non-null  int64  \n",
      " 8   Balance          10000 non-null  float64\n",
      " 9   NumOfProducts    10000 non-null  int64  \n",
      " 10  HasCrCard        10000 non-null  int64  \n",
      " 11  IsActiveMember   10000 non-null  int64  \n",
      " 12  EstimatedSalary  10000 non-null  float64\n",
      " 13  Exited           10000 non-null  int64  \n",
      "dtypes: float64(2), int64(9), object(3)\n",
      "memory usage: 1.1+ MB\n"
     ]
    }
   ],
   "source": [
    "df.info()"
   ]
  },
  {
   "cell_type": "code",
   "execution_count": 6,
   "id": "4676490b",
   "metadata": {
    "execution": {
     "iopub.execute_input": "2023-07-07T06:34:09.634982Z",
     "iopub.status.busy": "2023-07-07T06:34:09.634373Z",
     "iopub.status.idle": "2023-07-07T06:34:09.652357Z",
     "shell.execute_reply": "2023-07-07T06:34:09.651197Z"
    },
    "papermill": {
     "duration": 0.032645,
     "end_time": "2023-07-07T06:34:09.654615",
     "exception": false,
     "start_time": "2023-07-07T06:34:09.621970",
     "status": "completed"
    },
    "tags": []
   },
   "outputs": [
    {
     "data": {
      "text/plain": [
       "0"
      ]
     },
     "execution_count": 6,
     "metadata": {},
     "output_type": "execute_result"
    }
   ],
   "source": [
    "df.duplicated().sum()"
   ]
  },
  {
   "cell_type": "code",
   "execution_count": 7,
   "id": "f1e3489e",
   "metadata": {
    "execution": {
     "iopub.execute_input": "2023-07-07T06:34:09.679581Z",
     "iopub.status.busy": "2023-07-07T06:34:09.678959Z",
     "iopub.status.idle": "2023-07-07T06:34:09.686852Z",
     "shell.execute_reply": "2023-07-07T06:34:09.686047Z"
    },
    "papermill": {
     "duration": 0.02292,
     "end_time": "2023-07-07T06:34:09.688945",
     "exception": false,
     "start_time": "2023-07-07T06:34:09.666025",
     "status": "completed"
    },
    "tags": []
   },
   "outputs": [
    {
     "data": {
      "text/plain": [
       "0    7963\n",
       "1    2037\n",
       "Name: Exited, dtype: int64"
      ]
     },
     "execution_count": 7,
     "metadata": {},
     "output_type": "execute_result"
    }
   ],
   "source": [
    "df['Exited'].value_counts()"
   ]
  },
  {
   "cell_type": "code",
   "execution_count": 8,
   "id": "71a1b70a",
   "metadata": {
    "execution": {
     "iopub.execute_input": "2023-07-07T06:34:09.713935Z",
     "iopub.status.busy": "2023-07-07T06:34:09.713338Z",
     "iopub.status.idle": "2023-07-07T06:34:09.723042Z",
     "shell.execute_reply": "2023-07-07T06:34:09.721946Z"
    },
    "papermill": {
     "duration": 0.024697,
     "end_time": "2023-07-07T06:34:09.725251",
     "exception": false,
     "start_time": "2023-07-07T06:34:09.700554",
     "status": "completed"
    },
    "tags": []
   },
   "outputs": [
    {
     "data": {
      "text/plain": [
       "France     5014\n",
       "Germany    2509\n",
       "Spain      2477\n",
       "Name: Geography, dtype: int64"
      ]
     },
     "execution_count": 8,
     "metadata": {},
     "output_type": "execute_result"
    }
   ],
   "source": [
    "df['Geography'].value_counts()"
   ]
  },
  {
   "cell_type": "code",
   "execution_count": 9,
   "id": "36985692",
   "metadata": {
    "execution": {
     "iopub.execute_input": "2023-07-07T06:34:09.751143Z",
     "iopub.status.busy": "2023-07-07T06:34:09.750467Z",
     "iopub.status.idle": "2023-07-07T06:34:09.758498Z",
     "shell.execute_reply": "2023-07-07T06:34:09.757769Z"
    },
    "papermill": {
     "duration": 0.023607,
     "end_time": "2023-07-07T06:34:09.760744",
     "exception": false,
     "start_time": "2023-07-07T06:34:09.737137",
     "status": "completed"
    },
    "tags": []
   },
   "outputs": [],
   "source": [
    "df.drop(columns=['RowNumber','CustomerId','Surname'], inplace=True)"
   ]
  },
  {
   "cell_type": "code",
   "execution_count": 10,
   "id": "4f4af55c",
   "metadata": {
    "execution": {
     "iopub.execute_input": "2023-07-07T06:34:09.786829Z",
     "iopub.status.busy": "2023-07-07T06:34:09.786222Z",
     "iopub.status.idle": "2023-07-07T06:34:09.801502Z",
     "shell.execute_reply": "2023-07-07T06:34:09.800404Z"
    },
    "papermill": {
     "duration": 0.030945,
     "end_time": "2023-07-07T06:34:09.803744",
     "exception": false,
     "start_time": "2023-07-07T06:34:09.772799",
     "status": "completed"
    },
    "tags": []
   },
   "outputs": [
    {
     "data": {
      "text/html": [
       "<div>\n",
       "<style scoped>\n",
       "    .dataframe tbody tr th:only-of-type {\n",
       "        vertical-align: middle;\n",
       "    }\n",
       "\n",
       "    .dataframe tbody tr th {\n",
       "        vertical-align: top;\n",
       "    }\n",
       "\n",
       "    .dataframe thead th {\n",
       "        text-align: right;\n",
       "    }\n",
       "</style>\n",
       "<table border=\"1\" class=\"dataframe\">\n",
       "  <thead>\n",
       "    <tr style=\"text-align: right;\">\n",
       "      <th></th>\n",
       "      <th>CreditScore</th>\n",
       "      <th>Geography</th>\n",
       "      <th>Gender</th>\n",
       "      <th>Age</th>\n",
       "      <th>Tenure</th>\n",
       "      <th>Balance</th>\n",
       "      <th>NumOfProducts</th>\n",
       "      <th>HasCrCard</th>\n",
       "      <th>IsActiveMember</th>\n",
       "      <th>EstimatedSalary</th>\n",
       "      <th>Exited</th>\n",
       "    </tr>\n",
       "  </thead>\n",
       "  <tbody>\n",
       "    <tr>\n",
       "      <th>0</th>\n",
       "      <td>619</td>\n",
       "      <td>France</td>\n",
       "      <td>Female</td>\n",
       "      <td>42</td>\n",
       "      <td>2</td>\n",
       "      <td>0.00</td>\n",
       "      <td>1</td>\n",
       "      <td>1</td>\n",
       "      <td>1</td>\n",
       "      <td>101348.88</td>\n",
       "      <td>1</td>\n",
       "    </tr>\n",
       "    <tr>\n",
       "      <th>1</th>\n",
       "      <td>608</td>\n",
       "      <td>Spain</td>\n",
       "      <td>Female</td>\n",
       "      <td>41</td>\n",
       "      <td>1</td>\n",
       "      <td>83807.86</td>\n",
       "      <td>1</td>\n",
       "      <td>0</td>\n",
       "      <td>1</td>\n",
       "      <td>112542.58</td>\n",
       "      <td>0</td>\n",
       "    </tr>\n",
       "    <tr>\n",
       "      <th>2</th>\n",
       "      <td>502</td>\n",
       "      <td>France</td>\n",
       "      <td>Female</td>\n",
       "      <td>42</td>\n",
       "      <td>8</td>\n",
       "      <td>159660.80</td>\n",
       "      <td>3</td>\n",
       "      <td>1</td>\n",
       "      <td>0</td>\n",
       "      <td>113931.57</td>\n",
       "      <td>1</td>\n",
       "    </tr>\n",
       "    <tr>\n",
       "      <th>3</th>\n",
       "      <td>699</td>\n",
       "      <td>France</td>\n",
       "      <td>Female</td>\n",
       "      <td>39</td>\n",
       "      <td>1</td>\n",
       "      <td>0.00</td>\n",
       "      <td>2</td>\n",
       "      <td>0</td>\n",
       "      <td>0</td>\n",
       "      <td>93826.63</td>\n",
       "      <td>0</td>\n",
       "    </tr>\n",
       "    <tr>\n",
       "      <th>4</th>\n",
       "      <td>850</td>\n",
       "      <td>Spain</td>\n",
       "      <td>Female</td>\n",
       "      <td>43</td>\n",
       "      <td>2</td>\n",
       "      <td>125510.82</td>\n",
       "      <td>1</td>\n",
       "      <td>1</td>\n",
       "      <td>1</td>\n",
       "      <td>79084.10</td>\n",
       "      <td>0</td>\n",
       "    </tr>\n",
       "  </tbody>\n",
       "</table>\n",
       "</div>"
      ],
      "text/plain": [
       "   CreditScore Geography  Gender  Age  Tenure    Balance  NumOfProducts  \\\n",
       "0          619    France  Female   42       2       0.00              1   \n",
       "1          608     Spain  Female   41       1   83807.86              1   \n",
       "2          502    France  Female   42       8  159660.80              3   \n",
       "3          699    France  Female   39       1       0.00              2   \n",
       "4          850     Spain  Female   43       2  125510.82              1   \n",
       "\n",
       "   HasCrCard  IsActiveMember  EstimatedSalary  Exited  \n",
       "0          1               1        101348.88       1  \n",
       "1          0               1        112542.58       0  \n",
       "2          1               0        113931.57       1  \n",
       "3          0               0         93826.63       0  \n",
       "4          1               1         79084.10       0  "
      ]
     },
     "execution_count": 10,
     "metadata": {},
     "output_type": "execute_result"
    }
   ],
   "source": [
    "df.head()"
   ]
  },
  {
   "cell_type": "code",
   "execution_count": 11,
   "id": "ca96e868",
   "metadata": {
    "execution": {
     "iopub.execute_input": "2023-07-07T06:34:09.830312Z",
     "iopub.status.busy": "2023-07-07T06:34:09.829627Z",
     "iopub.status.idle": "2023-07-07T06:34:09.843742Z",
     "shell.execute_reply": "2023-07-07T06:34:09.842913Z"
    },
    "papermill": {
     "duration": 0.030328,
     "end_time": "2023-07-07T06:34:09.846129",
     "exception": false,
     "start_time": "2023-07-07T06:34:09.815801",
     "status": "completed"
    },
    "tags": []
   },
   "outputs": [],
   "source": [
    "df = pd.get_dummies(df,columns=['Geography','Gender'],drop_first=True)"
   ]
  },
  {
   "cell_type": "code",
   "execution_count": 12,
   "id": "bd8e0b73",
   "metadata": {
    "execution": {
     "iopub.execute_input": "2023-07-07T06:34:09.873949Z",
     "iopub.status.busy": "2023-07-07T06:34:09.873268Z",
     "iopub.status.idle": "2023-07-07T06:34:09.893812Z",
     "shell.execute_reply": "2023-07-07T06:34:09.892695Z"
    },
    "papermill": {
     "duration": 0.037015,
     "end_time": "2023-07-07T06:34:09.896124",
     "exception": false,
     "start_time": "2023-07-07T06:34:09.859109",
     "status": "completed"
    },
    "tags": []
   },
   "outputs": [
    {
     "data": {
      "text/html": [
       "<div>\n",
       "<style scoped>\n",
       "    .dataframe tbody tr th:only-of-type {\n",
       "        vertical-align: middle;\n",
       "    }\n",
       "\n",
       "    .dataframe tbody tr th {\n",
       "        vertical-align: top;\n",
       "    }\n",
       "\n",
       "    .dataframe thead th {\n",
       "        text-align: right;\n",
       "    }\n",
       "</style>\n",
       "<table border=\"1\" class=\"dataframe\">\n",
       "  <thead>\n",
       "    <tr style=\"text-align: right;\">\n",
       "      <th></th>\n",
       "      <th>CreditScore</th>\n",
       "      <th>Age</th>\n",
       "      <th>Tenure</th>\n",
       "      <th>Balance</th>\n",
       "      <th>NumOfProducts</th>\n",
       "      <th>HasCrCard</th>\n",
       "      <th>IsActiveMember</th>\n",
       "      <th>EstimatedSalary</th>\n",
       "      <th>Exited</th>\n",
       "      <th>Geography_Germany</th>\n",
       "      <th>Geography_Spain</th>\n",
       "      <th>Gender_Male</th>\n",
       "    </tr>\n",
       "  </thead>\n",
       "  <tbody>\n",
       "    <tr>\n",
       "      <th>0</th>\n",
       "      <td>619</td>\n",
       "      <td>42</td>\n",
       "      <td>2</td>\n",
       "      <td>0.00</td>\n",
       "      <td>1</td>\n",
       "      <td>1</td>\n",
       "      <td>1</td>\n",
       "      <td>101348.88</td>\n",
       "      <td>1</td>\n",
       "      <td>0</td>\n",
       "      <td>0</td>\n",
       "      <td>0</td>\n",
       "    </tr>\n",
       "    <tr>\n",
       "      <th>1</th>\n",
       "      <td>608</td>\n",
       "      <td>41</td>\n",
       "      <td>1</td>\n",
       "      <td>83807.86</td>\n",
       "      <td>1</td>\n",
       "      <td>0</td>\n",
       "      <td>1</td>\n",
       "      <td>112542.58</td>\n",
       "      <td>0</td>\n",
       "      <td>0</td>\n",
       "      <td>1</td>\n",
       "      <td>0</td>\n",
       "    </tr>\n",
       "    <tr>\n",
       "      <th>2</th>\n",
       "      <td>502</td>\n",
       "      <td>42</td>\n",
       "      <td>8</td>\n",
       "      <td>159660.80</td>\n",
       "      <td>3</td>\n",
       "      <td>1</td>\n",
       "      <td>0</td>\n",
       "      <td>113931.57</td>\n",
       "      <td>1</td>\n",
       "      <td>0</td>\n",
       "      <td>0</td>\n",
       "      <td>0</td>\n",
       "    </tr>\n",
       "    <tr>\n",
       "      <th>3</th>\n",
       "      <td>699</td>\n",
       "      <td>39</td>\n",
       "      <td>1</td>\n",
       "      <td>0.00</td>\n",
       "      <td>2</td>\n",
       "      <td>0</td>\n",
       "      <td>0</td>\n",
       "      <td>93826.63</td>\n",
       "      <td>0</td>\n",
       "      <td>0</td>\n",
       "      <td>0</td>\n",
       "      <td>0</td>\n",
       "    </tr>\n",
       "    <tr>\n",
       "      <th>4</th>\n",
       "      <td>850</td>\n",
       "      <td>43</td>\n",
       "      <td>2</td>\n",
       "      <td>125510.82</td>\n",
       "      <td>1</td>\n",
       "      <td>1</td>\n",
       "      <td>1</td>\n",
       "      <td>79084.10</td>\n",
       "      <td>0</td>\n",
       "      <td>0</td>\n",
       "      <td>1</td>\n",
       "      <td>0</td>\n",
       "    </tr>\n",
       "    <tr>\n",
       "      <th>...</th>\n",
       "      <td>...</td>\n",
       "      <td>...</td>\n",
       "      <td>...</td>\n",
       "      <td>...</td>\n",
       "      <td>...</td>\n",
       "      <td>...</td>\n",
       "      <td>...</td>\n",
       "      <td>...</td>\n",
       "      <td>...</td>\n",
       "      <td>...</td>\n",
       "      <td>...</td>\n",
       "      <td>...</td>\n",
       "    </tr>\n",
       "    <tr>\n",
       "      <th>9995</th>\n",
       "      <td>771</td>\n",
       "      <td>39</td>\n",
       "      <td>5</td>\n",
       "      <td>0.00</td>\n",
       "      <td>2</td>\n",
       "      <td>1</td>\n",
       "      <td>0</td>\n",
       "      <td>96270.64</td>\n",
       "      <td>0</td>\n",
       "      <td>0</td>\n",
       "      <td>0</td>\n",
       "      <td>1</td>\n",
       "    </tr>\n",
       "    <tr>\n",
       "      <th>9996</th>\n",
       "      <td>516</td>\n",
       "      <td>35</td>\n",
       "      <td>10</td>\n",
       "      <td>57369.61</td>\n",
       "      <td>1</td>\n",
       "      <td>1</td>\n",
       "      <td>1</td>\n",
       "      <td>101699.77</td>\n",
       "      <td>0</td>\n",
       "      <td>0</td>\n",
       "      <td>0</td>\n",
       "      <td>1</td>\n",
       "    </tr>\n",
       "    <tr>\n",
       "      <th>9997</th>\n",
       "      <td>709</td>\n",
       "      <td>36</td>\n",
       "      <td>7</td>\n",
       "      <td>0.00</td>\n",
       "      <td>1</td>\n",
       "      <td>0</td>\n",
       "      <td>1</td>\n",
       "      <td>42085.58</td>\n",
       "      <td>1</td>\n",
       "      <td>0</td>\n",
       "      <td>0</td>\n",
       "      <td>0</td>\n",
       "    </tr>\n",
       "    <tr>\n",
       "      <th>9998</th>\n",
       "      <td>772</td>\n",
       "      <td>42</td>\n",
       "      <td>3</td>\n",
       "      <td>75075.31</td>\n",
       "      <td>2</td>\n",
       "      <td>1</td>\n",
       "      <td>0</td>\n",
       "      <td>92888.52</td>\n",
       "      <td>1</td>\n",
       "      <td>1</td>\n",
       "      <td>0</td>\n",
       "      <td>1</td>\n",
       "    </tr>\n",
       "    <tr>\n",
       "      <th>9999</th>\n",
       "      <td>792</td>\n",
       "      <td>28</td>\n",
       "      <td>4</td>\n",
       "      <td>130142.79</td>\n",
       "      <td>1</td>\n",
       "      <td>1</td>\n",
       "      <td>0</td>\n",
       "      <td>38190.78</td>\n",
       "      <td>0</td>\n",
       "      <td>0</td>\n",
       "      <td>0</td>\n",
       "      <td>0</td>\n",
       "    </tr>\n",
       "  </tbody>\n",
       "</table>\n",
       "<p>10000 rows × 12 columns</p>\n",
       "</div>"
      ],
      "text/plain": [
       "      CreditScore  Age  Tenure    Balance  NumOfProducts  HasCrCard  \\\n",
       "0             619   42       2       0.00              1          1   \n",
       "1             608   41       1   83807.86              1          0   \n",
       "2             502   42       8  159660.80              3          1   \n",
       "3             699   39       1       0.00              2          0   \n",
       "4             850   43       2  125510.82              1          1   \n",
       "...           ...  ...     ...        ...            ...        ...   \n",
       "9995          771   39       5       0.00              2          1   \n",
       "9996          516   35      10   57369.61              1          1   \n",
       "9997          709   36       7       0.00              1          0   \n",
       "9998          772   42       3   75075.31              2          1   \n",
       "9999          792   28       4  130142.79              1          1   \n",
       "\n",
       "      IsActiveMember  EstimatedSalary  Exited  Geography_Germany  \\\n",
       "0                  1        101348.88       1                  0   \n",
       "1                  1        112542.58       0                  0   \n",
       "2                  0        113931.57       1                  0   \n",
       "3                  0         93826.63       0                  0   \n",
       "4                  1         79084.10       0                  0   \n",
       "...              ...              ...     ...                ...   \n",
       "9995               0         96270.64       0                  0   \n",
       "9996               1        101699.77       0                  0   \n",
       "9997               1         42085.58       1                  0   \n",
       "9998               0         92888.52       1                  1   \n",
       "9999               0         38190.78       0                  0   \n",
       "\n",
       "      Geography_Spain  Gender_Male  \n",
       "0                   0            0  \n",
       "1                   1            0  \n",
       "2                   0            0  \n",
       "3                   0            0  \n",
       "4                   1            0  \n",
       "...               ...          ...  \n",
       "9995                0            1  \n",
       "9996                0            1  \n",
       "9997                0            0  \n",
       "9998                0            1  \n",
       "9999                0            0  \n",
       "\n",
       "[10000 rows x 12 columns]"
      ]
     },
     "execution_count": 12,
     "metadata": {},
     "output_type": "execute_result"
    }
   ],
   "source": [
    "df"
   ]
  },
  {
   "cell_type": "code",
   "execution_count": 13,
   "id": "b2c1cef3",
   "metadata": {
    "execution": {
     "iopub.execute_input": "2023-07-07T06:34:09.924761Z",
     "iopub.status.busy": "2023-07-07T06:34:09.924099Z",
     "iopub.status.idle": "2023-07-07T06:34:09.930555Z",
     "shell.execute_reply": "2023-07-07T06:34:09.929757Z"
    },
    "papermill": {
     "duration": 0.023628,
     "end_time": "2023-07-07T06:34:09.933011",
     "exception": false,
     "start_time": "2023-07-07T06:34:09.909383",
     "status": "completed"
    },
    "tags": []
   },
   "outputs": [],
   "source": [
    "X = df.drop(columns=['Exited'])\n",
    "y = df['Exited']"
   ]
  },
  {
   "cell_type": "code",
   "execution_count": 14,
   "id": "d668138b",
   "metadata": {
    "execution": {
     "iopub.execute_input": "2023-07-07T06:34:09.961192Z",
     "iopub.status.busy": "2023-07-07T06:34:09.960533Z",
     "iopub.status.idle": "2023-07-07T06:34:09.979992Z",
     "shell.execute_reply": "2023-07-07T06:34:09.978963Z"
    },
    "papermill": {
     "duration": 0.036227,
     "end_time": "2023-07-07T06:34:09.982272",
     "exception": false,
     "start_time": "2023-07-07T06:34:09.946045",
     "status": "completed"
    },
    "tags": []
   },
   "outputs": [
    {
     "data": {
      "text/html": [
       "<div>\n",
       "<style scoped>\n",
       "    .dataframe tbody tr th:only-of-type {\n",
       "        vertical-align: middle;\n",
       "    }\n",
       "\n",
       "    .dataframe tbody tr th {\n",
       "        vertical-align: top;\n",
       "    }\n",
       "\n",
       "    .dataframe thead th {\n",
       "        text-align: right;\n",
       "    }\n",
       "</style>\n",
       "<table border=\"1\" class=\"dataframe\">\n",
       "  <thead>\n",
       "    <tr style=\"text-align: right;\">\n",
       "      <th></th>\n",
       "      <th>CreditScore</th>\n",
       "      <th>Age</th>\n",
       "      <th>Tenure</th>\n",
       "      <th>Balance</th>\n",
       "      <th>NumOfProducts</th>\n",
       "      <th>HasCrCard</th>\n",
       "      <th>IsActiveMember</th>\n",
       "      <th>EstimatedSalary</th>\n",
       "      <th>Geography_Germany</th>\n",
       "      <th>Geography_Spain</th>\n",
       "      <th>Gender_Male</th>\n",
       "    </tr>\n",
       "  </thead>\n",
       "  <tbody>\n",
       "    <tr>\n",
       "      <th>0</th>\n",
       "      <td>619</td>\n",
       "      <td>42</td>\n",
       "      <td>2</td>\n",
       "      <td>0.00</td>\n",
       "      <td>1</td>\n",
       "      <td>1</td>\n",
       "      <td>1</td>\n",
       "      <td>101348.88</td>\n",
       "      <td>0</td>\n",
       "      <td>0</td>\n",
       "      <td>0</td>\n",
       "    </tr>\n",
       "    <tr>\n",
       "      <th>1</th>\n",
       "      <td>608</td>\n",
       "      <td>41</td>\n",
       "      <td>1</td>\n",
       "      <td>83807.86</td>\n",
       "      <td>1</td>\n",
       "      <td>0</td>\n",
       "      <td>1</td>\n",
       "      <td>112542.58</td>\n",
       "      <td>0</td>\n",
       "      <td>1</td>\n",
       "      <td>0</td>\n",
       "    </tr>\n",
       "    <tr>\n",
       "      <th>2</th>\n",
       "      <td>502</td>\n",
       "      <td>42</td>\n",
       "      <td>8</td>\n",
       "      <td>159660.80</td>\n",
       "      <td>3</td>\n",
       "      <td>1</td>\n",
       "      <td>0</td>\n",
       "      <td>113931.57</td>\n",
       "      <td>0</td>\n",
       "      <td>0</td>\n",
       "      <td>0</td>\n",
       "    </tr>\n",
       "    <tr>\n",
       "      <th>3</th>\n",
       "      <td>699</td>\n",
       "      <td>39</td>\n",
       "      <td>1</td>\n",
       "      <td>0.00</td>\n",
       "      <td>2</td>\n",
       "      <td>0</td>\n",
       "      <td>0</td>\n",
       "      <td>93826.63</td>\n",
       "      <td>0</td>\n",
       "      <td>0</td>\n",
       "      <td>0</td>\n",
       "    </tr>\n",
       "    <tr>\n",
       "      <th>4</th>\n",
       "      <td>850</td>\n",
       "      <td>43</td>\n",
       "      <td>2</td>\n",
       "      <td>125510.82</td>\n",
       "      <td>1</td>\n",
       "      <td>1</td>\n",
       "      <td>1</td>\n",
       "      <td>79084.10</td>\n",
       "      <td>0</td>\n",
       "      <td>1</td>\n",
       "      <td>0</td>\n",
       "    </tr>\n",
       "    <tr>\n",
       "      <th>...</th>\n",
       "      <td>...</td>\n",
       "      <td>...</td>\n",
       "      <td>...</td>\n",
       "      <td>...</td>\n",
       "      <td>...</td>\n",
       "      <td>...</td>\n",
       "      <td>...</td>\n",
       "      <td>...</td>\n",
       "      <td>...</td>\n",
       "      <td>...</td>\n",
       "      <td>...</td>\n",
       "    </tr>\n",
       "    <tr>\n",
       "      <th>9995</th>\n",
       "      <td>771</td>\n",
       "      <td>39</td>\n",
       "      <td>5</td>\n",
       "      <td>0.00</td>\n",
       "      <td>2</td>\n",
       "      <td>1</td>\n",
       "      <td>0</td>\n",
       "      <td>96270.64</td>\n",
       "      <td>0</td>\n",
       "      <td>0</td>\n",
       "      <td>1</td>\n",
       "    </tr>\n",
       "    <tr>\n",
       "      <th>9996</th>\n",
       "      <td>516</td>\n",
       "      <td>35</td>\n",
       "      <td>10</td>\n",
       "      <td>57369.61</td>\n",
       "      <td>1</td>\n",
       "      <td>1</td>\n",
       "      <td>1</td>\n",
       "      <td>101699.77</td>\n",
       "      <td>0</td>\n",
       "      <td>0</td>\n",
       "      <td>1</td>\n",
       "    </tr>\n",
       "    <tr>\n",
       "      <th>9997</th>\n",
       "      <td>709</td>\n",
       "      <td>36</td>\n",
       "      <td>7</td>\n",
       "      <td>0.00</td>\n",
       "      <td>1</td>\n",
       "      <td>0</td>\n",
       "      <td>1</td>\n",
       "      <td>42085.58</td>\n",
       "      <td>0</td>\n",
       "      <td>0</td>\n",
       "      <td>0</td>\n",
       "    </tr>\n",
       "    <tr>\n",
       "      <th>9998</th>\n",
       "      <td>772</td>\n",
       "      <td>42</td>\n",
       "      <td>3</td>\n",
       "      <td>75075.31</td>\n",
       "      <td>2</td>\n",
       "      <td>1</td>\n",
       "      <td>0</td>\n",
       "      <td>92888.52</td>\n",
       "      <td>1</td>\n",
       "      <td>0</td>\n",
       "      <td>1</td>\n",
       "    </tr>\n",
       "    <tr>\n",
       "      <th>9999</th>\n",
       "      <td>792</td>\n",
       "      <td>28</td>\n",
       "      <td>4</td>\n",
       "      <td>130142.79</td>\n",
       "      <td>1</td>\n",
       "      <td>1</td>\n",
       "      <td>0</td>\n",
       "      <td>38190.78</td>\n",
       "      <td>0</td>\n",
       "      <td>0</td>\n",
       "      <td>0</td>\n",
       "    </tr>\n",
       "  </tbody>\n",
       "</table>\n",
       "<p>10000 rows × 11 columns</p>\n",
       "</div>"
      ],
      "text/plain": [
       "      CreditScore  Age  Tenure    Balance  NumOfProducts  HasCrCard  \\\n",
       "0             619   42       2       0.00              1          1   \n",
       "1             608   41       1   83807.86              1          0   \n",
       "2             502   42       8  159660.80              3          1   \n",
       "3             699   39       1       0.00              2          0   \n",
       "4             850   43       2  125510.82              1          1   \n",
       "...           ...  ...     ...        ...            ...        ...   \n",
       "9995          771   39       5       0.00              2          1   \n",
       "9996          516   35      10   57369.61              1          1   \n",
       "9997          709   36       7       0.00              1          0   \n",
       "9998          772   42       3   75075.31              2          1   \n",
       "9999          792   28       4  130142.79              1          1   \n",
       "\n",
       "      IsActiveMember  EstimatedSalary  Geography_Germany  Geography_Spain  \\\n",
       "0                  1        101348.88                  0                0   \n",
       "1                  1        112542.58                  0                1   \n",
       "2                  0        113931.57                  0                0   \n",
       "3                  0         93826.63                  0                0   \n",
       "4                  1         79084.10                  0                1   \n",
       "...              ...              ...                ...              ...   \n",
       "9995               0         96270.64                  0                0   \n",
       "9996               1        101699.77                  0                0   \n",
       "9997               1         42085.58                  0                0   \n",
       "9998               0         92888.52                  1                0   \n",
       "9999               0         38190.78                  0                0   \n",
       "\n",
       "      Gender_Male  \n",
       "0               0  \n",
       "1               0  \n",
       "2               0  \n",
       "3               0  \n",
       "4               0  \n",
       "...           ...  \n",
       "9995            1  \n",
       "9996            1  \n",
       "9997            0  \n",
       "9998            1  \n",
       "9999            0  \n",
       "\n",
       "[10000 rows x 11 columns]"
      ]
     },
     "execution_count": 14,
     "metadata": {},
     "output_type": "execute_result"
    }
   ],
   "source": [
    "X"
   ]
  },
  {
   "cell_type": "code",
   "execution_count": 15,
   "id": "195f9ad0",
   "metadata": {
    "execution": {
     "iopub.execute_input": "2023-07-07T06:34:10.010094Z",
     "iopub.status.busy": "2023-07-07T06:34:10.009426Z",
     "iopub.status.idle": "2023-07-07T06:34:10.017185Z",
     "shell.execute_reply": "2023-07-07T06:34:10.016259Z"
    },
    "papermill": {
     "duration": 0.024129,
     "end_time": "2023-07-07T06:34:10.019259",
     "exception": false,
     "start_time": "2023-07-07T06:34:09.995130",
     "status": "completed"
    },
    "tags": []
   },
   "outputs": [
    {
     "data": {
      "text/plain": [
       "0       1\n",
       "1       0\n",
       "2       1\n",
       "3       0\n",
       "4       0\n",
       "       ..\n",
       "9995    0\n",
       "9996    0\n",
       "9997    1\n",
       "9998    1\n",
       "9999    0\n",
       "Name: Exited, Length: 10000, dtype: int64"
      ]
     },
     "execution_count": 15,
     "metadata": {},
     "output_type": "execute_result"
    }
   ],
   "source": [
    "y"
   ]
  },
  {
   "cell_type": "code",
   "execution_count": 16,
   "id": "8e584d0e",
   "metadata": {
    "execution": {
     "iopub.execute_input": "2023-07-07T06:34:10.047708Z",
     "iopub.status.busy": "2023-07-07T06:34:10.047072Z",
     "iopub.status.idle": "2023-07-07T06:34:11.454957Z",
     "shell.execute_reply": "2023-07-07T06:34:11.453803Z"
    },
    "papermill": {
     "duration": 1.425728,
     "end_time": "2023-07-07T06:34:11.458113",
     "exception": false,
     "start_time": "2023-07-07T06:34:10.032385",
     "status": "completed"
    },
    "tags": []
   },
   "outputs": [],
   "source": [
    "from sklearn.model_selection import train_test_split\n",
    "X_train,X_test,y_train,y_test = train_test_split(X,y,test_size=0.2,random_state=1)"
   ]
  },
  {
   "cell_type": "code",
   "execution_count": 17,
   "id": "29fa0722",
   "metadata": {
    "execution": {
     "iopub.execute_input": "2023-07-07T06:34:11.486559Z",
     "iopub.status.busy": "2023-07-07T06:34:11.485927Z",
     "iopub.status.idle": "2023-07-07T06:34:11.491579Z",
     "shell.execute_reply": "2023-07-07T06:34:11.490792Z"
    },
    "papermill": {
     "duration": 0.022359,
     "end_time": "2023-07-07T06:34:11.493552",
     "exception": false,
     "start_time": "2023-07-07T06:34:11.471193",
     "status": "completed"
    },
    "tags": []
   },
   "outputs": [
    {
     "name": "stdout",
     "output_type": "stream",
     "text": [
      "X_train (8000, 11)\n",
      "y_test (2000,)\n"
     ]
    }
   ],
   "source": [
    "print('X_train',X_train.shape)\n",
    "print('y_test',y_test.shape)"
   ]
  },
  {
   "cell_type": "code",
   "execution_count": 18,
   "id": "61dd66f4",
   "metadata": {
    "execution": {
     "iopub.execute_input": "2023-07-07T06:34:11.522053Z",
     "iopub.status.busy": "2023-07-07T06:34:11.521383Z",
     "iopub.status.idle": "2023-07-07T06:34:11.537043Z",
     "shell.execute_reply": "2023-07-07T06:34:11.536007Z"
    },
    "papermill": {
     "duration": 0.032747,
     "end_time": "2023-07-07T06:34:11.539558",
     "exception": false,
     "start_time": "2023-07-07T06:34:11.506811",
     "status": "completed"
    },
    "tags": []
   },
   "outputs": [],
   "source": [
    "from sklearn.preprocessing import StandardScaler\n",
    "scaler = StandardScaler()\n",
    "\n",
    "X_train_scaled = scaler.fit_transform(X_train)\n",
    "X_test_scaled = scaler.fit_transform(X_test)"
   ]
  },
  {
   "cell_type": "code",
   "execution_count": 19,
   "id": "3442711f",
   "metadata": {
    "execution": {
     "iopub.execute_input": "2023-07-07T06:34:11.568399Z",
     "iopub.status.busy": "2023-07-07T06:34:11.567686Z",
     "iopub.status.idle": "2023-07-07T06:34:11.574673Z",
     "shell.execute_reply": "2023-07-07T06:34:11.573759Z"
    },
    "papermill": {
     "duration": 0.02386,
     "end_time": "2023-07-07T06:34:11.576747",
     "exception": false,
     "start_time": "2023-07-07T06:34:11.552887",
     "status": "completed"
    },
    "tags": []
   },
   "outputs": [
    {
     "data": {
      "text/plain": [
       "array([[-0.23082038, -0.94449979, -0.70174202, ...,  1.71490137,\n",
       "        -0.57273139,  0.91509065],\n",
       "       [-0.25150912, -0.94449979, -0.35520275, ..., -0.58312392,\n",
       "        -0.57273139, -1.09278791],\n",
       "       [-0.3963303 ,  0.77498705,  0.33787579, ...,  1.71490137,\n",
       "        -0.57273139, -1.09278791],\n",
       "       ...,\n",
       "       [ 0.22433188,  0.58393295,  1.3774936 , ..., -0.58312392,\n",
       "        -0.57273139, -1.09278791],\n",
       "       [ 0.13123255,  0.01077067,  1.03095433, ..., -0.58312392,\n",
       "        -0.57273139, -1.09278791],\n",
       "       [ 1.1656695 ,  0.29735181,  0.33787579, ...,  1.71490137,\n",
       "        -0.57273139,  0.91509065]])"
      ]
     },
     "execution_count": 19,
     "metadata": {},
     "output_type": "execute_result"
    }
   ],
   "source": [
    "X_train_scaled"
   ]
  },
  {
   "cell_type": "code",
   "execution_count": 20,
   "id": "210c3755",
   "metadata": {
    "execution": {
     "iopub.execute_input": "2023-07-07T06:34:11.605832Z",
     "iopub.status.busy": "2023-07-07T06:34:11.605170Z",
     "iopub.status.idle": "2023-07-07T06:34:20.347108Z",
     "shell.execute_reply": "2023-07-07T06:34:20.346023Z"
    },
    "papermill": {
     "duration": 8.759381,
     "end_time": "2023-07-07T06:34:20.349903",
     "exception": false,
     "start_time": "2023-07-07T06:34:11.590522",
     "status": "completed"
    },
    "tags": []
   },
   "outputs": [
    {
     "name": "stderr",
     "output_type": "stream",
     "text": [
      "/opt/conda/lib/python3.10/site-packages/tensorflow_io/python/ops/__init__.py:98: UserWarning: unable to load libtensorflow_io_plugins.so: unable to open file: libtensorflow_io_plugins.so, from paths: ['/opt/conda/lib/python3.10/site-packages/tensorflow_io/python/ops/libtensorflow_io_plugins.so']\n",
      "caused by: ['/opt/conda/lib/python3.10/site-packages/tensorflow_io/python/ops/libtensorflow_io_plugins.so: undefined symbol: _ZN3tsl6StatusC1EN10tensorflow5error4CodeESt17basic_string_viewIcSt11char_traitsIcEENS_14SourceLocationE']\n",
      "  warnings.warn(f\"unable to load libtensorflow_io_plugins.so: {e}\")\n",
      "/opt/conda/lib/python3.10/site-packages/tensorflow_io/python/ops/__init__.py:104: UserWarning: file system plugins are not loaded: unable to open file: libtensorflow_io.so, from paths: ['/opt/conda/lib/python3.10/site-packages/tensorflow_io/python/ops/libtensorflow_io.so']\n",
      "caused by: ['/opt/conda/lib/python3.10/site-packages/tensorflow_io/python/ops/libtensorflow_io.so: undefined symbol: _ZTVN10tensorflow13GcsFileSystemE']\n",
      "  warnings.warn(f\"file system plugins are not loaded: {e}\")\n"
     ]
    }
   ],
   "source": [
    "import tensorflow\n",
    "from tensorflow import keras\n",
    "from tensorflow.keras import Sequential\n",
    "from tensorflow.keras.layers import Dense"
   ]
  },
  {
   "cell_type": "code",
   "execution_count": 21,
   "id": "8713073a",
   "metadata": {
    "execution": {
     "iopub.execute_input": "2023-07-07T06:34:20.379399Z",
     "iopub.status.busy": "2023-07-07T06:34:20.378581Z",
     "iopub.status.idle": "2023-07-07T06:34:20.569446Z",
     "shell.execute_reply": "2023-07-07T06:34:20.568324Z"
    },
    "papermill": {
     "duration": 0.208905,
     "end_time": "2023-07-07T06:34:20.572472",
     "exception": false,
     "start_time": "2023-07-07T06:34:20.363567",
     "status": "completed"
    },
    "tags": []
   },
   "outputs": [],
   "source": [
    "model = Sequential()\n",
    "# Adding an input Layer\n",
    "model.add(Dense(11,activation='relu',input_dim = 11))\n",
    "#adding a hiddden layer\n",
    "model.add(Dense(11,activation='relu'))\n",
    "# Adding an output layer\n",
    "model.add(Dense(1,activation='sigmoid'))"
   ]
  },
  {
   "cell_type": "code",
   "execution_count": 22,
   "id": "29e525f3",
   "metadata": {
    "execution": {
     "iopub.execute_input": "2023-07-07T06:34:20.601370Z",
     "iopub.status.busy": "2023-07-07T06:34:20.600992Z",
     "iopub.status.idle": "2023-07-07T06:34:20.622991Z",
     "shell.execute_reply": "2023-07-07T06:34:20.621918Z"
    },
    "papermill": {
     "duration": 0.040402,
     "end_time": "2023-07-07T06:34:20.626440",
     "exception": false,
     "start_time": "2023-07-07T06:34:20.586038",
     "status": "completed"
    },
    "tags": []
   },
   "outputs": [
    {
     "name": "stdout",
     "output_type": "stream",
     "text": [
      "Model: \"sequential\"\n",
      "_________________________________________________________________\n",
      " Layer (type)                Output Shape              Param #   \n",
      "=================================================================\n",
      " dense (Dense)               (None, 11)                132       \n",
      "                                                                 \n",
      " dense_1 (Dense)             (None, 11)                132       \n",
      "                                                                 \n",
      " dense_2 (Dense)             (None, 1)                 12        \n",
      "                                                                 \n",
      "=================================================================\n",
      "Total params: 276\n",
      "Trainable params: 276\n",
      "Non-trainable params: 0\n",
      "_________________________________________________________________\n"
     ]
    }
   ],
   "source": [
    "model.summary()"
   ]
  },
  {
   "cell_type": "code",
   "execution_count": 23,
   "id": "e359bb2b",
   "metadata": {
    "execution": {
     "iopub.execute_input": "2023-07-07T06:34:20.657838Z",
     "iopub.status.busy": "2023-07-07T06:34:20.657399Z",
     "iopub.status.idle": "2023-07-07T06:34:20.676949Z",
     "shell.execute_reply": "2023-07-07T06:34:20.675841Z"
    },
    "papermill": {
     "duration": 0.038573,
     "end_time": "2023-07-07T06:34:20.679678",
     "exception": false,
     "start_time": "2023-07-07T06:34:20.641105",
     "status": "completed"
    },
    "tags": []
   },
   "outputs": [],
   "source": [
    "model.compile(loss='binary_crossentropy',optimizer='Adam',metrics=['accuracy'])"
   ]
  },
  {
   "cell_type": "code",
   "execution_count": 24,
   "id": "654f1308",
   "metadata": {
    "execution": {
     "iopub.execute_input": "2023-07-07T06:34:20.711668Z",
     "iopub.status.busy": "2023-07-07T06:34:20.710883Z",
     "iopub.status.idle": "2023-07-07T06:35:01.564331Z",
     "shell.execute_reply": "2023-07-07T06:35:01.563244Z"
    },
    "papermill": {
     "duration": 40.872487,
     "end_time": "2023-07-07T06:35:01.566953",
     "exception": false,
     "start_time": "2023-07-07T06:34:20.694466",
     "status": "completed"
    },
    "tags": []
   },
   "outputs": [
    {
     "name": "stdout",
     "output_type": "stream",
     "text": [
      "Epoch 1/100\n",
      "200/200 [==============================] - 2s 3ms/step - loss: 0.5876 - accuracy: 0.7080 - val_loss: 0.4872 - val_accuracy: 0.7944\n",
      "Epoch 2/100\n",
      "200/200 [==============================] - 0s 2ms/step - loss: 0.4595 - accuracy: 0.7973 - val_loss: 0.4517 - val_accuracy: 0.8019\n",
      "Epoch 3/100\n",
      "200/200 [==============================] - 0s 2ms/step - loss: 0.4369 - accuracy: 0.8094 - val_loss: 0.4380 - val_accuracy: 0.8119\n",
      "Epoch 4/100\n",
      "200/200 [==============================] - 0s 2ms/step - loss: 0.4270 - accuracy: 0.8184 - val_loss: 0.4298 - val_accuracy: 0.8175\n",
      "Epoch 5/100\n",
      "200/200 [==============================] - 0s 2ms/step - loss: 0.4199 - accuracy: 0.8213 - val_loss: 0.4204 - val_accuracy: 0.8181\n",
      "Epoch 6/100\n",
      "200/200 [==============================] - 0s 2ms/step - loss: 0.4071 - accuracy: 0.8317 - val_loss: 0.3998 - val_accuracy: 0.8344\n",
      "Epoch 7/100\n",
      "200/200 [==============================] - 0s 2ms/step - loss: 0.3904 - accuracy: 0.8414 - val_loss: 0.3830 - val_accuracy: 0.8413\n",
      "Epoch 8/100\n",
      "200/200 [==============================] - 0s 2ms/step - loss: 0.3782 - accuracy: 0.8483 - val_loss: 0.3705 - val_accuracy: 0.8525\n",
      "Epoch 9/100\n",
      "200/200 [==============================] - 0s 2ms/step - loss: 0.3688 - accuracy: 0.8533 - val_loss: 0.3622 - val_accuracy: 0.8575\n",
      "Epoch 10/100\n",
      "200/200 [==============================] - 0s 2ms/step - loss: 0.3633 - accuracy: 0.8519 - val_loss: 0.3590 - val_accuracy: 0.8512\n",
      "Epoch 11/100\n",
      "200/200 [==============================] - 0s 2ms/step - loss: 0.3578 - accuracy: 0.8562 - val_loss: 0.3550 - val_accuracy: 0.8550\n",
      "Epoch 12/100\n",
      "200/200 [==============================] - 0s 2ms/step - loss: 0.3543 - accuracy: 0.8558 - val_loss: 0.3556 - val_accuracy: 0.8531\n",
      "Epoch 13/100\n",
      "200/200 [==============================] - 0s 2ms/step - loss: 0.3517 - accuracy: 0.8562 - val_loss: 0.3525 - val_accuracy: 0.8531\n",
      "Epoch 14/100\n",
      "200/200 [==============================] - 0s 2ms/step - loss: 0.3487 - accuracy: 0.8564 - val_loss: 0.3523 - val_accuracy: 0.8531\n",
      "Epoch 15/100\n",
      "200/200 [==============================] - 0s 2ms/step - loss: 0.3466 - accuracy: 0.8575 - val_loss: 0.3532 - val_accuracy: 0.8562\n",
      "Epoch 16/100\n",
      "200/200 [==============================] - 0s 2ms/step - loss: 0.3454 - accuracy: 0.8578 - val_loss: 0.3518 - val_accuracy: 0.8544\n",
      "Epoch 17/100\n",
      "200/200 [==============================] - 0s 2ms/step - loss: 0.3429 - accuracy: 0.8575 - val_loss: 0.3510 - val_accuracy: 0.8512\n",
      "Epoch 18/100\n",
      "200/200 [==============================] - 0s 2ms/step - loss: 0.3417 - accuracy: 0.8597 - val_loss: 0.3511 - val_accuracy: 0.8519\n",
      "Epoch 19/100\n",
      "200/200 [==============================] - 0s 2ms/step - loss: 0.3402 - accuracy: 0.8583 - val_loss: 0.3528 - val_accuracy: 0.8500\n",
      "Epoch 20/100\n",
      "200/200 [==============================] - 0s 2ms/step - loss: 0.3393 - accuracy: 0.8606 - val_loss: 0.3508 - val_accuracy: 0.8531\n",
      "Epoch 21/100\n",
      "200/200 [==============================] - 0s 2ms/step - loss: 0.3382 - accuracy: 0.8617 - val_loss: 0.3492 - val_accuracy: 0.8550\n",
      "Epoch 22/100\n",
      "200/200 [==============================] - 0s 2ms/step - loss: 0.3369 - accuracy: 0.8622 - val_loss: 0.3483 - val_accuracy: 0.8550\n",
      "Epoch 23/100\n",
      "200/200 [==============================] - 0s 2ms/step - loss: 0.3362 - accuracy: 0.8611 - val_loss: 0.3484 - val_accuracy: 0.8544\n",
      "Epoch 24/100\n",
      "200/200 [==============================] - 0s 2ms/step - loss: 0.3350 - accuracy: 0.8620 - val_loss: 0.3493 - val_accuracy: 0.8512\n",
      "Epoch 25/100\n",
      "200/200 [==============================] - 0s 2ms/step - loss: 0.3343 - accuracy: 0.8637 - val_loss: 0.3471 - val_accuracy: 0.8556\n",
      "Epoch 26/100\n",
      "200/200 [==============================] - 0s 2ms/step - loss: 0.3341 - accuracy: 0.8628 - val_loss: 0.3488 - val_accuracy: 0.8512\n",
      "Epoch 27/100\n",
      "200/200 [==============================] - 0s 2ms/step - loss: 0.3325 - accuracy: 0.8656 - val_loss: 0.3481 - val_accuracy: 0.8487\n",
      "Epoch 28/100\n",
      "200/200 [==============================] - 0s 2ms/step - loss: 0.3318 - accuracy: 0.8652 - val_loss: 0.3491 - val_accuracy: 0.8531\n",
      "Epoch 29/100\n",
      "200/200 [==============================] - 0s 2ms/step - loss: 0.3316 - accuracy: 0.8647 - val_loss: 0.3484 - val_accuracy: 0.8506\n",
      "Epoch 30/100\n",
      "200/200 [==============================] - 0s 2ms/step - loss: 0.3307 - accuracy: 0.8648 - val_loss: 0.3499 - val_accuracy: 0.8494\n",
      "Epoch 31/100\n",
      "200/200 [==============================] - 0s 2ms/step - loss: 0.3305 - accuracy: 0.8650 - val_loss: 0.3476 - val_accuracy: 0.8494\n",
      "Epoch 32/100\n",
      "200/200 [==============================] - 0s 2ms/step - loss: 0.3298 - accuracy: 0.8672 - val_loss: 0.3476 - val_accuracy: 0.8525\n",
      "Epoch 33/100\n",
      "200/200 [==============================] - 0s 2ms/step - loss: 0.3294 - accuracy: 0.8680 - val_loss: 0.3492 - val_accuracy: 0.8456\n",
      "Epoch 34/100\n",
      "200/200 [==============================] - 0s 2ms/step - loss: 0.3287 - accuracy: 0.8666 - val_loss: 0.3476 - val_accuracy: 0.8494\n",
      "Epoch 35/100\n",
      "200/200 [==============================] - 0s 2ms/step - loss: 0.3284 - accuracy: 0.8667 - val_loss: 0.3470 - val_accuracy: 0.8469\n",
      "Epoch 36/100\n",
      "200/200 [==============================] - 0s 2ms/step - loss: 0.3281 - accuracy: 0.8656 - val_loss: 0.3466 - val_accuracy: 0.8512\n",
      "Epoch 37/100\n",
      "200/200 [==============================] - 0s 2ms/step - loss: 0.3274 - accuracy: 0.8673 - val_loss: 0.3470 - val_accuracy: 0.8469\n",
      "Epoch 38/100\n",
      "200/200 [==============================] - 0s 2ms/step - loss: 0.3276 - accuracy: 0.8659 - val_loss: 0.3463 - val_accuracy: 0.8462\n",
      "Epoch 39/100\n",
      "200/200 [==============================] - 0s 2ms/step - loss: 0.3273 - accuracy: 0.8680 - val_loss: 0.3482 - val_accuracy: 0.8450\n",
      "Epoch 40/100\n",
      "200/200 [==============================] - 0s 2ms/step - loss: 0.3268 - accuracy: 0.8672 - val_loss: 0.3455 - val_accuracy: 0.8475\n",
      "Epoch 41/100\n",
      "200/200 [==============================] - 0s 2ms/step - loss: 0.3266 - accuracy: 0.8677 - val_loss: 0.3461 - val_accuracy: 0.8475\n",
      "Epoch 42/100\n",
      "200/200 [==============================] - 0s 2ms/step - loss: 0.3260 - accuracy: 0.8669 - val_loss: 0.3505 - val_accuracy: 0.8469\n",
      "Epoch 43/100\n",
      "200/200 [==============================] - 0s 2ms/step - loss: 0.3261 - accuracy: 0.8678 - val_loss: 0.3464 - val_accuracy: 0.8494\n",
      "Epoch 44/100\n",
      "200/200 [==============================] - 0s 2ms/step - loss: 0.3256 - accuracy: 0.8669 - val_loss: 0.3459 - val_accuracy: 0.8475\n",
      "Epoch 45/100\n",
      "200/200 [==============================] - 0s 2ms/step - loss: 0.3252 - accuracy: 0.8680 - val_loss: 0.3478 - val_accuracy: 0.8444\n",
      "Epoch 46/100\n",
      "200/200 [==============================] - 0s 2ms/step - loss: 0.3254 - accuracy: 0.8680 - val_loss: 0.3474 - val_accuracy: 0.8456\n",
      "Epoch 47/100\n",
      "200/200 [==============================] - 0s 2ms/step - loss: 0.3253 - accuracy: 0.8673 - val_loss: 0.3465 - val_accuracy: 0.8506\n",
      "Epoch 48/100\n",
      "200/200 [==============================] - 0s 2ms/step - loss: 0.3250 - accuracy: 0.8673 - val_loss: 0.3458 - val_accuracy: 0.8519\n",
      "Epoch 49/100\n",
      "200/200 [==============================] - 0s 2ms/step - loss: 0.3249 - accuracy: 0.8673 - val_loss: 0.3465 - val_accuracy: 0.8481\n",
      "Epoch 50/100\n",
      "200/200 [==============================] - 0s 2ms/step - loss: 0.3249 - accuracy: 0.8661 - val_loss: 0.3475 - val_accuracy: 0.8462\n",
      "Epoch 51/100\n",
      "200/200 [==============================] - 0s 2ms/step - loss: 0.3244 - accuracy: 0.8695 - val_loss: 0.3467 - val_accuracy: 0.8481\n",
      "Epoch 52/100\n",
      "200/200 [==============================] - 0s 2ms/step - loss: 0.3243 - accuracy: 0.8678 - val_loss: 0.3489 - val_accuracy: 0.8544\n",
      "Epoch 53/100\n",
      "200/200 [==============================] - 0s 2ms/step - loss: 0.3239 - accuracy: 0.8691 - val_loss: 0.3483 - val_accuracy: 0.8487\n",
      "Epoch 54/100\n",
      "200/200 [==============================] - 0s 2ms/step - loss: 0.3238 - accuracy: 0.8683 - val_loss: 0.3483 - val_accuracy: 0.8462\n",
      "Epoch 55/100\n",
      "200/200 [==============================] - 0s 2ms/step - loss: 0.3230 - accuracy: 0.8687 - val_loss: 0.3470 - val_accuracy: 0.8506\n",
      "Epoch 56/100\n",
      "200/200 [==============================] - 0s 2ms/step - loss: 0.3233 - accuracy: 0.8672 - val_loss: 0.3483 - val_accuracy: 0.8494\n",
      "Epoch 57/100\n",
      "200/200 [==============================] - 0s 2ms/step - loss: 0.3235 - accuracy: 0.8680 - val_loss: 0.3472 - val_accuracy: 0.8475\n",
      "Epoch 58/100\n",
      "200/200 [==============================] - 0s 2ms/step - loss: 0.3232 - accuracy: 0.8700 - val_loss: 0.3470 - val_accuracy: 0.8500\n",
      "Epoch 59/100\n",
      "200/200 [==============================] - 0s 2ms/step - loss: 0.3228 - accuracy: 0.8697 - val_loss: 0.3459 - val_accuracy: 0.8544\n",
      "Epoch 60/100\n",
      "200/200 [==============================] - 0s 2ms/step - loss: 0.3231 - accuracy: 0.8698 - val_loss: 0.3464 - val_accuracy: 0.8512\n",
      "Epoch 61/100\n",
      "200/200 [==============================] - 0s 2ms/step - loss: 0.3227 - accuracy: 0.8691 - val_loss: 0.3464 - val_accuracy: 0.8469\n",
      "Epoch 62/100\n",
      "200/200 [==============================] - 0s 2ms/step - loss: 0.3224 - accuracy: 0.8703 - val_loss: 0.3471 - val_accuracy: 0.8469\n",
      "Epoch 63/100\n",
      "200/200 [==============================] - 0s 2ms/step - loss: 0.3225 - accuracy: 0.8687 - val_loss: 0.3461 - val_accuracy: 0.8519\n",
      "Epoch 64/100\n",
      "200/200 [==============================] - 0s 2ms/step - loss: 0.3217 - accuracy: 0.8716 - val_loss: 0.3486 - val_accuracy: 0.8475\n",
      "Epoch 65/100\n",
      "200/200 [==============================] - 0s 2ms/step - loss: 0.3220 - accuracy: 0.8697 - val_loss: 0.3473 - val_accuracy: 0.8444\n",
      "Epoch 66/100\n",
      "200/200 [==============================] - 0s 2ms/step - loss: 0.3215 - accuracy: 0.8697 - val_loss: 0.3470 - val_accuracy: 0.8525\n",
      "Epoch 67/100\n",
      "200/200 [==============================] - 0s 2ms/step - loss: 0.3218 - accuracy: 0.8706 - val_loss: 0.3472 - val_accuracy: 0.8506\n",
      "Epoch 68/100\n",
      "200/200 [==============================] - 0s 2ms/step - loss: 0.3217 - accuracy: 0.8697 - val_loss: 0.3480 - val_accuracy: 0.8481\n",
      "Epoch 69/100\n",
      "200/200 [==============================] - 0s 2ms/step - loss: 0.3216 - accuracy: 0.8686 - val_loss: 0.3466 - val_accuracy: 0.8481\n",
      "Epoch 70/100\n",
      "200/200 [==============================] - 0s 2ms/step - loss: 0.3212 - accuracy: 0.8684 - val_loss: 0.3473 - val_accuracy: 0.8494\n",
      "Epoch 71/100\n",
      "200/200 [==============================] - 0s 2ms/step - loss: 0.3212 - accuracy: 0.8703 - val_loss: 0.3462 - val_accuracy: 0.8525\n",
      "Epoch 72/100\n",
      "200/200 [==============================] - 0s 2ms/step - loss: 0.3216 - accuracy: 0.8697 - val_loss: 0.3476 - val_accuracy: 0.8525\n",
      "Epoch 73/100\n",
      "200/200 [==============================] - 0s 2ms/step - loss: 0.3213 - accuracy: 0.8712 - val_loss: 0.3491 - val_accuracy: 0.8494\n",
      "Epoch 74/100\n",
      "200/200 [==============================] - 0s 2ms/step - loss: 0.3208 - accuracy: 0.8686 - val_loss: 0.3476 - val_accuracy: 0.8487\n",
      "Epoch 75/100\n",
      "200/200 [==============================] - 0s 2ms/step - loss: 0.3206 - accuracy: 0.8711 - val_loss: 0.3483 - val_accuracy: 0.8494\n",
      "Epoch 76/100\n",
      "200/200 [==============================] - 0s 2ms/step - loss: 0.3208 - accuracy: 0.8691 - val_loss: 0.3467 - val_accuracy: 0.8525\n",
      "Epoch 77/100\n",
      "200/200 [==============================] - 0s 2ms/step - loss: 0.3202 - accuracy: 0.8708 - val_loss: 0.3480 - val_accuracy: 0.8506\n",
      "Epoch 78/100\n",
      "200/200 [==============================] - 1s 3ms/step - loss: 0.3203 - accuracy: 0.8702 - val_loss: 0.3473 - val_accuracy: 0.8494\n",
      "Epoch 79/100\n",
      "200/200 [==============================] - 0s 2ms/step - loss: 0.3205 - accuracy: 0.8691 - val_loss: 0.3471 - val_accuracy: 0.8519\n",
      "Epoch 80/100\n",
      "200/200 [==============================] - 0s 2ms/step - loss: 0.3201 - accuracy: 0.8703 - val_loss: 0.3472 - val_accuracy: 0.8487\n",
      "Epoch 81/100\n",
      "200/200 [==============================] - 0s 2ms/step - loss: 0.3202 - accuracy: 0.8692 - val_loss: 0.3481 - val_accuracy: 0.8469\n",
      "Epoch 82/100\n",
      "200/200 [==============================] - 0s 2ms/step - loss: 0.3201 - accuracy: 0.8698 - val_loss: 0.3467 - val_accuracy: 0.8500\n",
      "Epoch 83/100\n",
      "200/200 [==============================] - 0s 2ms/step - loss: 0.3198 - accuracy: 0.8697 - val_loss: 0.3498 - val_accuracy: 0.8525\n",
      "Epoch 84/100\n",
      "200/200 [==============================] - 0s 2ms/step - loss: 0.3198 - accuracy: 0.8706 - val_loss: 0.3469 - val_accuracy: 0.8512\n",
      "Epoch 85/100\n",
      "200/200 [==============================] - 0s 2ms/step - loss: 0.3194 - accuracy: 0.8689 - val_loss: 0.3488 - val_accuracy: 0.8487\n",
      "Epoch 86/100\n",
      "200/200 [==============================] - 0s 2ms/step - loss: 0.3190 - accuracy: 0.8720 - val_loss: 0.3477 - val_accuracy: 0.8500\n",
      "Epoch 87/100\n",
      "200/200 [==============================] - 0s 2ms/step - loss: 0.3186 - accuracy: 0.8703 - val_loss: 0.3485 - val_accuracy: 0.8512\n",
      "Epoch 88/100\n",
      "200/200 [==============================] - 0s 2ms/step - loss: 0.3188 - accuracy: 0.8692 - val_loss: 0.3481 - val_accuracy: 0.8487\n",
      "Epoch 89/100\n",
      "200/200 [==============================] - 0s 2ms/step - loss: 0.3181 - accuracy: 0.8689 - val_loss: 0.3481 - val_accuracy: 0.8481\n",
      "Epoch 90/100\n",
      "200/200 [==============================] - 0s 2ms/step - loss: 0.3185 - accuracy: 0.8703 - val_loss: 0.3475 - val_accuracy: 0.8487\n",
      "Epoch 91/100\n",
      "200/200 [==============================] - 0s 2ms/step - loss: 0.3182 - accuracy: 0.8720 - val_loss: 0.3480 - val_accuracy: 0.8481\n",
      "Epoch 92/100\n",
      "200/200 [==============================] - 0s 2ms/step - loss: 0.3182 - accuracy: 0.8708 - val_loss: 0.3468 - val_accuracy: 0.8506\n",
      "Epoch 93/100\n",
      "200/200 [==============================] - 0s 2ms/step - loss: 0.3178 - accuracy: 0.8705 - val_loss: 0.3475 - val_accuracy: 0.8519\n",
      "Epoch 94/100\n",
      "200/200 [==============================] - 0s 2ms/step - loss: 0.3173 - accuracy: 0.8714 - val_loss: 0.3485 - val_accuracy: 0.8475\n",
      "Epoch 95/100\n",
      "200/200 [==============================] - 0s 2ms/step - loss: 0.3180 - accuracy: 0.8687 - val_loss: 0.3479 - val_accuracy: 0.8481\n",
      "Epoch 96/100\n",
      "200/200 [==============================] - 0s 2ms/step - loss: 0.3174 - accuracy: 0.8727 - val_loss: 0.3484 - val_accuracy: 0.8487\n",
      "Epoch 97/100\n",
      "200/200 [==============================] - 0s 2ms/step - loss: 0.3176 - accuracy: 0.8684 - val_loss: 0.3481 - val_accuracy: 0.8525\n",
      "Epoch 98/100\n",
      "200/200 [==============================] - 0s 2ms/step - loss: 0.3166 - accuracy: 0.8731 - val_loss: 0.3497 - val_accuracy: 0.8469\n",
      "Epoch 99/100\n",
      "200/200 [==============================] - 0s 2ms/step - loss: 0.3168 - accuracy: 0.8703 - val_loss: 0.3483 - val_accuracy: 0.8531\n",
      "Epoch 100/100\n",
      "200/200 [==============================] - 0s 2ms/step - loss: 0.3168 - accuracy: 0.8709 - val_loss: 0.3483 - val_accuracy: 0.8487\n"
     ]
    }
   ],
   "source": [
    "history = model.fit(X_train_scaled,y_train,epochs=100,validation_split=0.2)"
   ]
  },
  {
   "cell_type": "code",
   "execution_count": 25,
   "id": "72ff5fe9",
   "metadata": {
    "execution": {
     "iopub.execute_input": "2023-07-07T06:35:01.748679Z",
     "iopub.status.busy": "2023-07-07T06:35:01.747471Z",
     "iopub.status.idle": "2023-07-07T06:35:01.759728Z",
     "shell.execute_reply": "2023-07-07T06:35:01.758939Z"
    },
    "papermill": {
     "duration": 0.104157,
     "end_time": "2023-07-07T06:35:01.761946",
     "exception": false,
     "start_time": "2023-07-07T06:35:01.657789",
     "status": "completed"
    },
    "tags": []
   },
   "outputs": [
    {
     "data": {
      "text/plain": [
       "[array([[ 0.13053223,  0.12914278, -0.37801307,  0.01229558,  0.28835347,\n",
       "         -0.4499363 ,  0.20176074, -0.09369484,  0.45509553,  0.5464136 ,\n",
       "          0.17084225],\n",
       "        [-0.02330114,  0.10883196, -0.3491359 , -0.8402538 , -0.20216125,\n",
       "         -0.33390927,  0.5739194 ,  0.23057893,  0.5422255 ,  0.3579873 ,\n",
       "         -0.8007745 ],\n",
       "        [-0.04282306, -0.02968858, -0.0418404 , -0.11825431,  0.00201348,\n",
       "          0.63923067, -0.10302313, -0.77058107,  0.14458916, -0.46774763,\n",
       "         -0.10945909],\n",
       "        [-0.78941923,  0.05212396,  0.3844572 , -0.14808019,  0.4305799 ,\n",
       "         -0.21700661, -0.88770676, -0.8655627 , -0.29595575, -0.15534894,\n",
       "          0.14565338],\n",
       "        [-0.7302509 ,  0.9285512 , -0.3717536 ,  0.27778685, -1.0774105 ,\n",
       "          0.06493584,  0.2461437 , -0.08546425, -0.40532005,  0.29714265,\n",
       "         -0.28001422],\n",
       "        [ 0.00598775,  0.03928742, -0.01787826, -0.16126755, -0.01736491,\n",
       "          0.37147355,  0.33784625, -0.45886335, -0.38967785, -0.44151974,\n",
       "          0.09752633],\n",
       "        [-0.09292391, -0.48040524, -0.19002643, -0.6439384 , -0.8138435 ,\n",
       "          0.30592844, -0.17024453, -0.5833026 ,  0.11424626,  0.50526583,\n",
       "         -0.19490965],\n",
       "        [-0.07843411, -0.053717  ,  0.47777414, -0.13415541,  0.04118505,\n",
       "          0.17785095, -0.40323374, -0.02983694,  0.68793154,  0.07223962,\n",
       "          0.20520726],\n",
       "        [ 0.67067677, -0.13829578, -0.10497939,  0.09124772, -0.15330462,\n",
       "         -0.06476223, -0.09586188, -0.43513146, -0.33645204,  0.42567375,\n",
       "         -0.11897495],\n",
       "        [ 0.10248442, -0.02165385,  0.18669894, -0.15556738, -0.26298922,\n",
       "          0.17992388,  0.02510396, -0.1875928 , -0.24457657,  0.27624637,\n",
       "         -0.04441635],\n",
       "        [-0.02229479, -0.15240696,  0.01370329, -0.05064477, -0.2526856 ,\n",
       "          0.37238535,  0.03546723,  0.3668838 , -0.2696599 ,  0.22043614,\n",
       "          0.01254282]], dtype=float32),\n",
       " array([ 0.12059516, -0.02074464, -0.29068655,  0.6593484 ,  0.12437321,\n",
       "         0.6046337 , -0.33080444,  0.05039945,  0.06604001,  0.16852483,\n",
       "         0.85609335], dtype=float32)]"
      ]
     },
     "execution_count": 25,
     "metadata": {},
     "output_type": "execute_result"
    }
   ],
   "source": [
    "model.layers[0].get_weights()"
   ]
  },
  {
   "cell_type": "code",
   "execution_count": 26,
   "id": "c191d622",
   "metadata": {
    "execution": {
     "iopub.execute_input": "2023-07-07T06:35:01.941029Z",
     "iopub.status.busy": "2023-07-07T06:35:01.940007Z",
     "iopub.status.idle": "2023-07-07T06:35:01.949433Z",
     "shell.execute_reply": "2023-07-07T06:35:01.948412Z"
    },
    "papermill": {
     "duration": 0.100946,
     "end_time": "2023-07-07T06:35:01.951690",
     "exception": false,
     "start_time": "2023-07-07T06:35:01.850744",
     "status": "completed"
    },
    "tags": []
   },
   "outputs": [
    {
     "data": {
      "text/plain": [
       "[array([[-0.40561903,  0.56825906, -0.13271655, -0.13053103,  0.49946398,\n",
       "          0.15897052, -0.69881165, -0.74906355, -1.0313799 ,  0.09109779,\n",
       "          0.20772946],\n",
       "        [ 0.91845715,  0.2994021 , -0.15907905,  0.6619406 ,  0.34706965,\n",
       "          0.38133374,  0.82591575, -0.53659093, -0.22343174,  0.45391238,\n",
       "          0.56916904],\n",
       "        [-0.25359887, -0.44392008, -0.5601313 ,  0.04539117, -0.31161612,\n",
       "         -0.27735847, -0.21078528, -0.28330877, -0.28281003,  0.37699685,\n",
       "          0.09873884],\n",
       "        [-0.21032728, -0.4915362 ,  0.44119185, -0.21607198,  0.06207016,\n",
       "          0.00567779, -0.08640074,  0.44891873, -0.10406357, -0.71119684,\n",
       "         -1.1926172 ],\n",
       "        [-0.8572055 ,  0.30222037, -0.43937117, -0.27221596,  0.24082732,\n",
       "         -0.1232284 , -1.0659769 , -0.08435638,  0.15293734,  0.5321166 ,\n",
       "          0.54848963],\n",
       "        [ 0.01845667,  0.29752153,  0.00598678, -0.04977222,  0.22037823,\n",
       "          0.08970706,  0.23322846,  0.381379  ,  0.31940117, -0.10768434,\n",
       "         -0.00347558],\n",
       "        [-0.22282337, -0.10256314,  0.41620886, -0.7021476 , -0.05403196,\n",
       "          0.1213364 , -0.45925668, -0.00570422,  0.0482643 ,  0.18457572,\n",
       "         -0.12919351],\n",
       "        [ 0.1269616 ,  0.03446435,  0.33605435,  0.1240855 ,  0.57296276,\n",
       "         -0.6383597 , -0.22792459,  0.60523134,  0.3490246 ,  0.18310384,\n",
       "          0.49152523],\n",
       "        [-0.37975377,  0.2614033 ,  0.14775756,  0.2792712 ,  0.36637405,\n",
       "          0.40323612, -0.6574002 , -0.01052694, -0.18138096, -0.17832282,\n",
       "          0.01395436],\n",
       "        [ 0.22513603, -0.1755995 ,  0.5325323 ,  0.3902987 , -0.7974855 ,\n",
       "         -0.14603376,  0.5320126 ,  0.48464364,  0.3438879 ,  0.06726097,\n",
       "          0.13687183],\n",
       "        [-0.19811638, -0.78561234,  0.13742591, -0.27590904, -0.22754212,\n",
       "          0.05800213,  0.02515192, -0.93871695,  0.23830782, -0.6798698 ,\n",
       "         -0.40671596]], dtype=float32),\n",
       " array([-0.1763922 ,  0.06894981,  0.41926053,  0.23882058, -0.4829057 ,\n",
       "         0.5725063 , -0.5549986 , -0.39206743,  0.5907392 , -0.01012999,\n",
       "         0.16494383], dtype=float32)]"
      ]
     },
     "execution_count": 26,
     "metadata": {},
     "output_type": "execute_result"
    }
   ],
   "source": [
    "model.layers[1].get_weights()"
   ]
  },
  {
   "cell_type": "code",
   "execution_count": 27,
   "id": "948aa72a",
   "metadata": {
    "execution": {
     "iopub.execute_input": "2023-07-07T06:35:02.129889Z",
     "iopub.status.busy": "2023-07-07T06:35:02.129086Z",
     "iopub.status.idle": "2023-07-07T06:35:02.411659Z",
     "shell.execute_reply": "2023-07-07T06:35:02.410615Z"
    },
    "papermill": {
     "duration": 0.374202,
     "end_time": "2023-07-07T06:35:02.414411",
     "exception": false,
     "start_time": "2023-07-07T06:35:02.040209",
     "status": "completed"
    },
    "tags": []
   },
   "outputs": [
    {
     "name": "stdout",
     "output_type": "stream",
     "text": [
      "63/63 [==============================] - 0s 1ms/step\n"
     ]
    }
   ],
   "source": [
    "y_log = model.predict(X_test_scaled)"
   ]
  },
  {
   "cell_type": "code",
   "execution_count": 28,
   "id": "a4b4c86f",
   "metadata": {
    "execution": {
     "iopub.execute_input": "2023-07-07T06:35:02.598580Z",
     "iopub.status.busy": "2023-07-07T06:35:02.597620Z",
     "iopub.status.idle": "2023-07-07T06:35:02.603429Z",
     "shell.execute_reply": "2023-07-07T06:35:02.602370Z"
    },
    "papermill": {
     "duration": 0.101327,
     "end_time": "2023-07-07T06:35:02.605753",
     "exception": false,
     "start_time": "2023-07-07T06:35:02.504426",
     "status": "completed"
    },
    "tags": []
   },
   "outputs": [],
   "source": [
    "y_pred = np.where(y_log>0.5,1,0)"
   ]
  },
  {
   "cell_type": "code",
   "execution_count": 29,
   "id": "f15a9455",
   "metadata": {
    "execution": {
     "iopub.execute_input": "2023-07-07T06:35:02.786105Z",
     "iopub.status.busy": "2023-07-07T06:35:02.785675Z",
     "iopub.status.idle": "2023-07-07T06:35:02.793383Z",
     "shell.execute_reply": "2023-07-07T06:35:02.792555Z"
    },
    "papermill": {
     "duration": 0.100088,
     "end_time": "2023-07-07T06:35:02.795446",
     "exception": false,
     "start_time": "2023-07-07T06:35:02.695358",
     "status": "completed"
    },
    "tags": []
   },
   "outputs": [
    {
     "data": {
      "text/plain": [
       "0.8565"
      ]
     },
     "execution_count": 29,
     "metadata": {},
     "output_type": "execute_result"
    }
   ],
   "source": [
    "from sklearn.metrics import accuracy_score\n",
    "accuracy_score(y_test,y_pred)"
   ]
  },
  {
   "cell_type": "code",
   "execution_count": 30,
   "id": "7f06f01b",
   "metadata": {
    "execution": {
     "iopub.execute_input": "2023-07-07T06:35:02.974896Z",
     "iopub.status.busy": "2023-07-07T06:35:02.974178Z",
     "iopub.status.idle": "2023-07-07T06:35:02.979658Z",
     "shell.execute_reply": "2023-07-07T06:35:02.978567Z"
    },
    "papermill": {
     "duration": 0.097307,
     "end_time": "2023-07-07T06:35:02.981945",
     "exception": false,
     "start_time": "2023-07-07T06:35:02.884638",
     "status": "completed"
    },
    "tags": []
   },
   "outputs": [],
   "source": [
    "import matplotlib.pyplot as plt"
   ]
  },
  {
   "cell_type": "code",
   "execution_count": 31,
   "id": "88667a38",
   "metadata": {
    "execution": {
     "iopub.execute_input": "2023-07-07T06:35:03.162080Z",
     "iopub.status.busy": "2023-07-07T06:35:03.161565Z",
     "iopub.status.idle": "2023-07-07T06:35:03.458358Z",
     "shell.execute_reply": "2023-07-07T06:35:03.457281Z"
    },
    "papermill": {
     "duration": 0.389431,
     "end_time": "2023-07-07T06:35:03.460688",
     "exception": false,
     "start_time": "2023-07-07T06:35:03.071257",
     "status": "completed"
    },
    "tags": []
   },
   "outputs": [
    {
     "data": {
      "text/plain": [
       "[<matplotlib.lines.Line2D at 0x7a544c2c41c0>]"
      ]
     },
     "execution_count": 31,
     "metadata": {},
     "output_type": "execute_result"
    },
    {
     "data": {
      "image/png": "[encoded data removed]",
      "text/plain": [
       "<Figure size 640x480 with 1 Axes>"
      ]
     },
     "metadata": {},
     "output_type": "display_data"
    }
   ],
   "source": [
    "plt.plot(history.history['loss'])\n",
    "plt.plot(history.history['val_loss'])"
   ]
  },
  {
   "cell_type": "code",
   "execution_count": 32,
   "id": "526ede80",
   "metadata": {
    "execution": {
     "iopub.execute_input": "2023-07-07T06:35:03.644467Z",
     "iopub.status.busy": "2023-07-07T06:35:03.643554Z",
     "iopub.status.idle": "2023-07-07T06:35:03.935282Z",
     "shell.execute_reply": "2023-07-07T06:35:03.934143Z"
    },
    "papermill": {
     "duration": 0.386159,
     "end_time": "2023-07-07T06:35:03.937673",
     "exception": false,
     "start_time": "2023-07-07T06:35:03.551514",
     "status": "completed"
    },
    "tags": []
   },
   "outputs": [
    {
     "data": {
      "text/plain": [
       "[<matplotlib.lines.Line2D at 0x7a544c228640>]"
      ]
     },
     "execution_count": 32,
     "metadata": {},
     "output_type": "execute_result"
    },
    {
     "data": {
      "image/png": "[encoded data removed]",
      "text/plain": [
       "<Figure size 640x480 with 1 Axes>"
      ]
     },
     "metadata": {},
     "output_type": "display_data"
    }
   ],
   "source": [
    "plt.plot(history.history['accuracy'])\n",
    "plt.plot(history.history['val_accuracy'])"
   ]
  },
  {
   "cell_type": "code",
   "execution_count": null,
   "id": "77a90d23",
   "metadata": {
    "papermill": {
     "duration": 0.090279,
     "end_time": "2023-07-07T06:35:04.118028",
     "exception": false,
     "start_time": "2023-07-07T06:35:04.027749",
     "status": "completed"
    },
    "tags": []
   },
   "outputs": [],
   "source": []
  },
  {
   "cell_type": "code",
   "execution_count": null,
   "id": "e92a4f34",
   "metadata": {
    "papermill": {
     "duration": 0.090272,
     "end_time": "2023-07-07T06:35:04.300284",
     "exception": false,
     "start_time": "2023-07-07T06:35:04.210012",
     "status": "completed"
    },
    "tags": []
   },
   "outputs": [],
   "source": []
  },
  {
   "cell_type": "code",
   "execution_count": null,
   "id": "8891b432",
   "metadata": {
    "papermill": {
     "duration": 0.089962,
     "end_time": "2023-07-07T06:35:04.481265",
     "exception": false,
     "start_time": "2023-07-07T06:35:04.391303",
     "status": "completed"
    },
    "tags": []
   },
   "outputs": [],
   "source": []
  }
 ],
 "metadata": {
  "kernelspec": {
   "display_name": "Python 3",
   "language": "python",
   "name": "python3"
  },
  "language_info": {
   "codemirror_mode": {
    "name": "ipython",
    "version": 3
   },
   "file_extension": ".py",
   "mimetype": "text/x-python",
   "name": "python",
   "nbconvert_exporter": "python",
   "pygments_lexer": "ipython3",
   "version": "3.10.10"
  },
  "papermill": {
   "default_parameters": {},
   "duration": 69.689125,
   "end_time": "2023-07-07T06:35:07.211021",
   "environment_variables": {},
   "exception": null,
   "input_path": "__notebook__.ipynb",
   "output_path": "__notebook__.ipynb",
   "parameters": {},
   "start_time": "2023-07-07T06:33:57.521896",
   "version": "2.4.0"
  }
 },
 "nbformat": 4,
 "nbformat_minor": 5
}
